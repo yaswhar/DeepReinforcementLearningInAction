{
 "cells": [
  {
   "cell_type": "code",
   "execution_count": 11,
   "metadata": {},
   "outputs": [
    {
     "name": "stdout",
     "output_type": "stream",
     "text": [
      "Requirement already satisfied: torch in /usr/local/python/3.12.1/lib/python3.12/site-packages (2.2.2)\n",
      "Requirement already satisfied: torchvision==0.17.2 in /usr/local/python/3.12.1/lib/python3.12/site-packages (0.17.2)\n",
      "Requirement already satisfied: numpy in /usr/local/python/3.12.1/lib/python3.12/site-packages (from torchvision==0.17.2) (1.26.4)\n",
      "Requirement already satisfied: pillow!=8.3.*,>=5.3.0 in /home/codespace/.local/lib/python3.12/site-packages (from torchvision==0.17.2) (11.0.0)\n",
      "Requirement already satisfied: filelock in /home/codespace/.local/lib/python3.12/site-packages (from torch) (3.13.1)\n",
      "Requirement already satisfied: typing-extensions>=4.8.0 in /home/codespace/.local/lib/python3.12/site-packages (from torch) (4.12.2)\n",
      "Requirement already satisfied: sympy in /home/codespace/.local/lib/python3.12/site-packages (from torch) (1.13.1)\n",
      "Requirement already satisfied: networkx in /home/codespace/.local/lib/python3.12/site-packages (from torch) (3.2.1)\n",
      "Requirement already satisfied: jinja2 in /home/codespace/.local/lib/python3.12/site-packages (from torch) (3.1.4)\n",
      "Requirement already satisfied: fsspec in /home/codespace/.local/lib/python3.12/site-packages (from torch) (2024.2.0)\n",
      "Requirement already satisfied: nvidia-cuda-nvrtc-cu12==12.1.105 in /usr/local/python/3.12.1/lib/python3.12/site-packages (from torch) (12.1.105)\n",
      "Requirement already satisfied: nvidia-cuda-runtime-cu12==12.1.105 in /usr/local/python/3.12.1/lib/python3.12/site-packages (from torch) (12.1.105)\n",
      "Requirement already satisfied: nvidia-cuda-cupti-cu12==12.1.105 in /usr/local/python/3.12.1/lib/python3.12/site-packages (from torch) (12.1.105)\n",
      "Requirement already satisfied: nvidia-cudnn-cu12==8.9.2.26 in /usr/local/python/3.12.1/lib/python3.12/site-packages (from torch) (8.9.2.26)\n",
      "Requirement already satisfied: nvidia-cublas-cu12==12.1.3.1 in /usr/local/python/3.12.1/lib/python3.12/site-packages (from torch) (12.1.3.1)\n",
      "Requirement already satisfied: nvidia-cufft-cu12==11.0.2.54 in /usr/local/python/3.12.1/lib/python3.12/site-packages (from torch) (11.0.2.54)\n",
      "Requirement already satisfied: nvidia-curand-cu12==10.3.2.106 in /usr/local/python/3.12.1/lib/python3.12/site-packages (from torch) (10.3.2.106)\n",
      "Requirement already satisfied: nvidia-cusolver-cu12==11.4.5.107 in /usr/local/python/3.12.1/lib/python3.12/site-packages (from torch) (11.4.5.107)\n",
      "Requirement already satisfied: nvidia-cusparse-cu12==12.1.0.106 in /usr/local/python/3.12.1/lib/python3.12/site-packages (from torch) (12.1.0.106)\n",
      "Requirement already satisfied: nvidia-nccl-cu12==2.19.3 in /usr/local/python/3.12.1/lib/python3.12/site-packages (from torch) (2.19.3)\n",
      "Requirement already satisfied: nvidia-nvtx-cu12==12.1.105 in /usr/local/python/3.12.1/lib/python3.12/site-packages (from torch) (12.1.105)\n",
      "Requirement already satisfied: nvidia-nvjitlink-cu12 in /usr/local/python/3.12.1/lib/python3.12/site-packages (from nvidia-cusolver-cu12==11.4.5.107->torch) (12.4.127)\n",
      "Requirement already satisfied: MarkupSafe>=2.0 in /home/codespace/.local/lib/python3.12/site-packages (from jinja2->torch) (3.0.2)\n",
      "Requirement already satisfied: mpmath<1.4,>=1.1.0 in /home/codespace/.local/lib/python3.12/site-packages (from sympy->torch) (1.3.0)\n",
      "\n",
      "\u001b[1m[\u001b[0m\u001b[34;49mnotice\u001b[0m\u001b[1;39;49m]\u001b[0m\u001b[39;49m A new release of pip is available: \u001b[0m\u001b[31;49m24.3.1\u001b[0m\u001b[39;49m -> \u001b[0m\u001b[32;49m25.0.1\u001b[0m\n",
      "\u001b[1m[\u001b[0m\u001b[34;49mnotice\u001b[0m\u001b[1;39;49m]\u001b[0m\u001b[39;49m To update, run: \u001b[0m\u001b[32;49mpython3 -m pip install --upgrade pip\u001b[0m\n",
      "Requirement already satisfied: torch==2.2.2 in /usr/local/python/3.12.1/lib/python3.12/site-packages (2.2.2)\n",
      "Requirement already satisfied: filelock in /home/codespace/.local/lib/python3.12/site-packages (from torch==2.2.2) (3.13.1)\n",
      "Requirement already satisfied: typing-extensions>=4.8.0 in /home/codespace/.local/lib/python3.12/site-packages (from torch==2.2.2) (4.12.2)\n",
      "Requirement already satisfied: sympy in /home/codespace/.local/lib/python3.12/site-packages (from torch==2.2.2) (1.13.1)\n",
      "Requirement already satisfied: networkx in /home/codespace/.local/lib/python3.12/site-packages (from torch==2.2.2) (3.2.1)\n",
      "Requirement already satisfied: jinja2 in /home/codespace/.local/lib/python3.12/site-packages (from torch==2.2.2) (3.1.4)\n",
      "Requirement already satisfied: fsspec in /home/codespace/.local/lib/python3.12/site-packages (from torch==2.2.2) (2024.2.0)\n",
      "Requirement already satisfied: nvidia-cuda-nvrtc-cu12==12.1.105 in /usr/local/python/3.12.1/lib/python3.12/site-packages (from torch==2.2.2) (12.1.105)\n",
      "Requirement already satisfied: nvidia-cuda-runtime-cu12==12.1.105 in /usr/local/python/3.12.1/lib/python3.12/site-packages (from torch==2.2.2) (12.1.105)\n",
      "Requirement already satisfied: nvidia-cuda-cupti-cu12==12.1.105 in /usr/local/python/3.12.1/lib/python3.12/site-packages (from torch==2.2.2) (12.1.105)\n",
      "Requirement already satisfied: nvidia-cudnn-cu12==8.9.2.26 in /usr/local/python/3.12.1/lib/python3.12/site-packages (from torch==2.2.2) (8.9.2.26)\n",
      "Requirement already satisfied: nvidia-cublas-cu12==12.1.3.1 in /usr/local/python/3.12.1/lib/python3.12/site-packages (from torch==2.2.2) (12.1.3.1)\n",
      "Requirement already satisfied: nvidia-cufft-cu12==11.0.2.54 in /usr/local/python/3.12.1/lib/python3.12/site-packages (from torch==2.2.2) (11.0.2.54)\n",
      "Requirement already satisfied: nvidia-curand-cu12==10.3.2.106 in /usr/local/python/3.12.1/lib/python3.12/site-packages (from torch==2.2.2) (10.3.2.106)\n",
      "Requirement already satisfied: nvidia-cusolver-cu12==11.4.5.107 in /usr/local/python/3.12.1/lib/python3.12/site-packages (from torch==2.2.2) (11.4.5.107)\n",
      "Requirement already satisfied: nvidia-cusparse-cu12==12.1.0.106 in /usr/local/python/3.12.1/lib/python3.12/site-packages (from torch==2.2.2) (12.1.0.106)\n",
      "Requirement already satisfied: nvidia-nccl-cu12==2.19.3 in /usr/local/python/3.12.1/lib/python3.12/site-packages (from torch==2.2.2) (2.19.3)\n",
      "Requirement already satisfied: nvidia-nvtx-cu12==12.1.105 in /usr/local/python/3.12.1/lib/python3.12/site-packages (from torch==2.2.2) (12.1.105)\n",
      "Requirement already satisfied: nvidia-nvjitlink-cu12 in /usr/local/python/3.12.1/lib/python3.12/site-packages (from nvidia-cusolver-cu12==11.4.5.107->torch==2.2.2) (12.4.127)\n",
      "Requirement already satisfied: MarkupSafe>=2.0 in /home/codespace/.local/lib/python3.12/site-packages (from jinja2->torch==2.2.2) (3.0.2)\n",
      "Requirement already satisfied: mpmath<1.4,>=1.1.0 in /home/codespace/.local/lib/python3.12/site-packages (from sympy->torch==2.2.2) (1.3.0)\n",
      "\n",
      "\u001b[1m[\u001b[0m\u001b[34;49mnotice\u001b[0m\u001b[1;39;49m]\u001b[0m\u001b[39;49m A new release of pip is available: \u001b[0m\u001b[31;49m24.3.1\u001b[0m\u001b[39;49m -> \u001b[0m\u001b[32;49m25.0.1\u001b[0m\n",
      "\u001b[1m[\u001b[0m\u001b[34;49mnotice\u001b[0m\u001b[1;39;49m]\u001b[0m\u001b[39;49m To update, run: \u001b[0m\u001b[32;49mpython3 -m pip install --upgrade pip\u001b[0m\n"
     ]
    }
   ],
   "source": [
    "!pip install torch torchvision==0.17.2\n",
    "!pip install torch==2.2.2\n",
    "\n",
    "import os\n",
    "import torch\n",
    "import torchvision.datasets as dset\n",
    "from torch.distributions import Bernoulli\n",
    "import torchvision.transforms as transforms\n",
    "import numpy as np\n",
    "import random\n",
    "from matplotlib import pyplot as plt\n",
    "from scipy.stats import halfnorm\n",
    "\n",
    "# Your code continues here..."
   ]
  },
  {
   "cell_type": "markdown",
   "metadata": {},
   "source": [
    "# Deep Reinforcement Learning _in Action_\n",
    "## MNIST Genetic Algorithm"
   ]
  },
  {
   "cell_type": "markdown",
   "metadata": {},
   "source": [
    "Setup a directory to store the MNIST dataset/"
   ]
  },
  {
   "cell_type": "code",
   "execution_count": 2,
   "metadata": {},
   "outputs": [],
   "source": [
    "root = './data'\n",
    "if not os.path.exists(root):\n",
    "    os.mkdir(root)"
   ]
  },
  {
   "cell_type": "markdown",
   "metadata": {},
   "source": [
    "Setup a transformer to normalize the data."
   ]
  },
  {
   "cell_type": "code",
   "execution_count": 3,
   "metadata": {},
   "outputs": [],
   "source": [
    "trans = transforms.Compose([transforms.ToTensor(), transforms.Normalize((0.5,), (1.0,))])"
   ]
  },
  {
   "cell_type": "code",
   "execution_count": 4,
   "metadata": {},
   "outputs": [],
   "source": [
    "train_set = dset.MNIST(root=root, train=True, transform=trans, download=True)\n",
    "test_set = dset.MNIST(root=root, train=False, transform=trans, download=True)"
   ]
  },
  {
   "cell_type": "code",
   "execution_count": 5,
   "metadata": {},
   "outputs": [],
   "source": [
    "batch_size = 100\n",
    "\n",
    "train_loader = torch.utils.data.DataLoader(\n",
    "                 dataset=train_set,\n",
    "                 batch_size=batch_size,\n",
    "                 shuffle=True)\n",
    "test_loader = torch.utils.data.DataLoader(\n",
    "                dataset=test_set,\n",
    "                batch_size=batch_size,\n",
    "                shuffle=False)"
   ]
  },
  {
   "cell_type": "markdown",
   "metadata": {},
   "source": [
    "We define a simple linear classifier (or you can think of it as a single layer neural network). It simply multiplies a weight/parameter matrix by the input vector and applies a softmax."
   ]
  },
  {
   "cell_type": "code",
   "execution_count": 6,
   "metadata": {},
   "outputs": [],
   "source": [
    "x = next(iter(train_loader))[0]"
   ]
  },
  {
   "cell_type": "code",
   "execution_count": 7,
   "metadata": {},
   "outputs": [],
   "source": [
    "x = x.reshape(100,784)"
   ]
  },
  {
   "cell_type": "code",
   "execution_count": 8,
   "metadata": {},
   "outputs": [],
   "source": [
    "class Individual:\n",
    "    def __init__(self,param, fitness=0):\n",
    "        self.param = param\n",
    "        self.fitness = fitness"
   ]
  },
  {
   "cell_type": "code",
   "execution_count": 9,
   "metadata": {},
   "outputs": [],
   "source": [
    "def model(x,W):\n",
    "    return torch.nn.Softmax()(x @ W)"
   ]
  },
  {
   "cell_type": "code",
   "execution_count": 10,
   "metadata": {},
   "outputs": [
    {
     "name": "stderr",
     "output_type": "stream",
     "text": [
      "/usr/local/python/3.12.1/lib/python3.12/site-packages/torch/nn/modules/module.py:1511: UserWarning: Implicit dimension choice for softmax has been deprecated. Change the call to include dim=X as an argument.\n",
      "  return self._call_impl(*args, **kwargs)\n"
     ]
    },
    {
     "data": {
      "text/plain": [
       "tensor([[6.2205e-05, 1.2605e-04, 1.4207e-04, 2.0332e-03, 2.3943e-04, 3.3313e-01,\n",
       "         1.3850e-02, 7.5092e-04, 1.4939e-02, 6.3473e-01],\n",
       "        [4.3240e-06, 5.7143e-04, 1.8861e-04, 2.9061e-04, 1.3297e-06, 1.2791e-01,\n",
       "         4.7366e-03, 6.3324e-04, 8.5214e-03, 8.5714e-01],\n",
       "        [2.3666e-05, 1.2403e-04, 9.5048e-05, 1.2936e-04, 2.6239e-05, 7.3511e-02,\n",
       "         1.7069e-03, 1.3969e-05, 6.9469e-01, 2.2968e-01],\n",
       "        [9.9920e-05, 1.7153e-04, 9.8816e-07, 1.0496e-05, 1.5800e-05, 3.7720e-01,\n",
       "         3.9249e-02, 4.3615e-03, 7.7642e-02, 5.0125e-01],\n",
       "        [1.9804e-04, 2.5138e-03, 2.5720e-05, 6.3940e-04, 3.9177e-06, 4.9897e-01,\n",
       "         6.9273e-02, 2.5857e-02, 3.5607e-02, 3.6691e-01],\n",
       "        [1.9271e-04, 7.4741e-03, 1.6654e-03, 1.1646e-02, 8.8965e-05, 5.8343e-01,\n",
       "         9.0895e-02, 4.2455e-04, 1.4499e-01, 1.5919e-01],\n",
       "        [5.1196e-04, 8.6483e-06, 7.7384e-01, 8.3054e-06, 1.1117e-05, 4.4886e-04,\n",
       "         2.6950e-03, 1.0654e-04, 4.5173e-04, 2.2191e-01],\n",
       "        [9.5014e-04, 5.3959e-04, 5.7270e-02, 2.0640e-04, 6.2870e-01, 1.4765e-01,\n",
       "         8.5131e-02, 1.2371e-02, 4.3973e-02, 2.3211e-02],\n",
       "        [2.1590e-03, 5.2962e-05, 5.9565e-03, 5.3988e-05, 6.7551e-04, 2.0701e-01,\n",
       "         3.4213e-02, 2.0249e-03, 1.4505e-01, 6.0281e-01],\n",
       "        [3.1434e-05, 1.5247e-03, 4.8373e-03, 2.3115e-04, 3.0752e-06, 1.5391e-02,\n",
       "         5.8474e-02, 9.3324e-04, 9.1112e-03, 9.0946e-01],\n",
       "        [2.0811e-04, 3.8763e-04, 3.9962e-04, 5.2926e-04, 6.8993e-05, 5.5251e-01,\n",
       "         1.3243e-01, 4.9991e-04, 2.6665e-03, 3.1030e-01],\n",
       "        [1.8524e-03, 2.8437e-04, 1.8781e-06, 8.3936e-06, 1.0687e-03, 9.0541e-01,\n",
       "         2.4383e-04, 1.4415e-03, 1.6501e-02, 7.3192e-02],\n",
       "        [5.9180e-04, 1.0540e-03, 1.3992e-04, 4.8116e-06, 2.9201e-05, 9.0046e-01,\n",
       "         1.7217e-04, 9.2311e-06, 6.1208e-02, 3.6334e-02],\n",
       "        [4.3935e-03, 3.7683e-05, 3.1169e-03, 7.6044e-03, 1.4103e-04, 2.6611e-02,\n",
       "         8.1241e-01, 1.0271e-01, 1.5027e-02, 2.7949e-02],\n",
       "        [4.2201e-04, 1.1325e-03, 1.1410e-06, 3.3015e-05, 1.1418e-04, 6.4259e-01,\n",
       "         7.0260e-03, 1.2097e-02, 2.3874e-02, 3.1271e-01],\n",
       "        [6.1865e-05, 2.5787e-04, 4.1017e-04, 1.8974e-04, 2.0546e-04, 4.2986e-01,\n",
       "         5.3949e-04, 1.7919e-04, 3.5101e-03, 5.6478e-01],\n",
       "        [5.5005e-05, 1.2783e-04, 1.6624e-04, 2.9991e-04, 7.8727e-05, 5.3452e-01,\n",
       "         3.2488e-03, 2.6748e-04, 1.1275e-02, 4.4996e-01],\n",
       "        [7.8203e-05, 6.4503e-04, 4.6495e-04, 8.4342e-04, 2.0431e-04, 6.9191e-02,\n",
       "         4.7780e-02, 1.5465e-03, 2.0429e-01, 6.7495e-01],\n",
       "        [6.4344e-06, 1.6670e-05, 6.4084e-06, 1.1998e-04, 5.5147e-05, 9.4826e-01,\n",
       "         8.2811e-03, 3.1569e-03, 4.5716e-04, 3.9642e-02],\n",
       "        [2.8973e-05, 5.9790e-04, 9.0704e-05, 3.0052e-05, 1.2574e-05, 1.3635e-01,\n",
       "         3.4721e-02, 2.6854e-02, 9.4677e-04, 8.0036e-01],\n",
       "        [1.1272e-04, 1.7306e-06, 6.1789e-05, 7.0949e-06, 6.0995e-07, 9.9875e-01,\n",
       "         3.2733e-07, 6.6281e-05, 5.2027e-04, 4.7898e-04],\n",
       "        [2.4306e-05, 2.1044e-03, 3.0278e-03, 1.5150e-02, 8.6077e-04, 2.9724e-02,\n",
       "         7.1401e-03, 9.4229e-05, 9.3493e-01, 6.9465e-03],\n",
       "        [5.8570e-05, 3.0905e-04, 1.1595e-02, 1.8010e-03, 1.3035e-04, 1.4917e-01,\n",
       "         1.3417e-01, 8.7105e-03, 9.2061e-03, 6.8485e-01],\n",
       "        [3.1255e-06, 6.1965e-05, 9.7354e-03, 5.8342e-05, 5.3694e-03, 5.1929e-01,\n",
       "         7.4887e-02, 1.8990e-04, 6.8779e-03, 3.8352e-01],\n",
       "        [3.1789e-04, 1.0046e-02, 1.6251e-02, 1.9548e-02, 9.4249e-04, 2.0068e-01,\n",
       "         1.0867e-01, 2.9467e-03, 1.6547e-01, 4.7513e-01],\n",
       "        [1.1863e-03, 2.7955e-05, 1.6134e-06, 1.9527e-03, 2.4961e-04, 7.0420e-01,\n",
       "         1.3701e-02, 2.6638e-05, 2.7381e-01, 4.8427e-03],\n",
       "        [4.7324e-04, 5.0196e-04, 1.1520e-03, 1.0952e-05, 4.1762e-05, 9.7931e-03,\n",
       "         7.9561e-03, 1.1702e-05, 3.6565e-01, 6.1441e-01],\n",
       "        [1.4203e-04, 1.0181e-04, 4.2632e-04, 4.0753e-05, 2.6698e-05, 1.3042e-01,\n",
       "         2.9718e-01, 3.5006e-05, 2.1953e-01, 3.5210e-01],\n",
       "        [4.1033e-02, 1.4123e-04, 7.2731e-05, 1.9942e-04, 1.8600e-02, 2.2004e-01,\n",
       "         2.0153e-01, 4.3987e-03, 2.1242e-01, 3.0157e-01],\n",
       "        [2.0189e-02, 9.4729e-02, 7.6478e-04, 5.2960e-06, 1.1934e-03, 1.2579e-01,\n",
       "         3.6698e-02, 6.4058e-04, 3.3007e-01, 3.8993e-01],\n",
       "        [1.7823e-05, 3.7498e-04, 1.4068e-03, 2.0057e-03, 2.4069e-04, 5.1606e-01,\n",
       "         1.6358e-03, 1.3684e-04, 2.6439e-02, 4.5168e-01],\n",
       "        [2.7022e-05, 2.9522e-04, 8.9064e-04, 9.8913e-04, 9.6205e-05, 7.2228e-01,\n",
       "         3.3939e-03, 2.8369e-04, 3.5357e-02, 2.3639e-01],\n",
       "        [6.5004e-04, 7.8579e-02, 1.7328e-03, 8.8712e-05, 3.6578e-02, 6.6102e-02,\n",
       "         6.9859e-01, 5.2526e-03, 9.6321e-02, 1.6106e-02],\n",
       "        [2.7935e-05, 1.1405e-04, 1.1460e-03, 8.4085e-04, 1.9205e-05, 1.4948e-01,\n",
       "         3.7427e-02, 7.5884e-04, 4.8036e-02, 7.6215e-01],\n",
       "        [1.5519e-02, 9.7624e-04, 1.1137e-03, 2.2800e-05, 2.3304e-01, 4.1475e-01,\n",
       "         8.2279e-02, 1.1499e-02, 2.0391e-01, 3.6893e-02],\n",
       "        [1.4318e-03, 1.8665e-03, 3.4128e-03, 5.0316e-04, 5.0354e-03, 7.1728e-01,\n",
       "         8.7419e-03, 1.0017e-03, 5.9765e-03, 2.5476e-01],\n",
       "        [9.1727e-02, 7.4267e-03, 1.9206e-05, 3.2193e-05, 3.5032e-02, 6.9035e-02,\n",
       "         7.4206e-01, 1.6972e-04, 4.3976e-02, 1.0525e-02],\n",
       "        [1.2166e-03, 3.5114e-03, 5.1951e-02, 1.0287e-03, 6.2459e-01, 3.8795e-03,\n",
       "         4.9155e-03, 1.2156e-02, 5.6544e-02, 2.4021e-01],\n",
       "        [1.6681e-05, 9.4500e-03, 2.2737e-02, 1.0194e-02, 1.2965e-04, 1.6050e-02,\n",
       "         1.2925e-02, 2.1311e-03, 1.2234e-01, 8.0403e-01],\n",
       "        [4.7229e-05, 4.9277e-05, 2.2476e-03, 1.1598e-03, 8.9034e-05, 6.0829e-01,\n",
       "         9.2480e-04, 2.9406e-05, 1.1322e-02, 3.7584e-01],\n",
       "        [8.1210e-04, 2.4954e-04, 8.2229e-05, 3.6511e-04, 7.2481e-06, 3.1169e-01,\n",
       "         4.8931e-01, 1.3652e-02, 1.3407e-02, 1.7043e-01],\n",
       "        [1.6263e-03, 2.1609e-02, 5.0176e-03, 1.2641e-04, 9.0239e-04, 1.5999e-01,\n",
       "         2.8203e-02, 4.9842e-04, 2.8674e-01, 4.9529e-01],\n",
       "        [5.6821e-03, 8.3974e-04, 4.3943e-04, 4.6717e-04, 4.5165e-02, 2.5534e-01,\n",
       "         4.2224e-01, 8.1863e-02, 7.9407e-03, 1.8003e-01],\n",
       "        [3.7162e-04, 1.7862e-03, 2.6744e-03, 2.0619e-04, 1.5764e-04, 2.6835e-02,\n",
       "         5.2155e-02, 3.6473e-04, 1.1449e-01, 8.0096e-01],\n",
       "        [4.8031e-04, 6.7409e-02, 1.2634e-02, 2.6117e-03, 2.8524e-04, 2.0528e-02,\n",
       "         3.1577e-02, 6.6410e-03, 2.3568e-01, 6.2216e-01],\n",
       "        [8.9552e-05, 4.2192e-02, 1.9398e-01, 1.1294e-05, 1.9345e-02, 7.3925e-02,\n",
       "         3.7758e-01, 9.5617e-04, 4.3006e-02, 2.4892e-01],\n",
       "        [3.0930e-06, 1.1114e-05, 2.2354e-07, 2.6954e-05, 3.6721e-05, 9.9542e-01,\n",
       "         1.2863e-04, 2.3954e-04, 1.0499e-04, 4.0327e-03],\n",
       "        [1.7025e-05, 6.4843e-06, 1.7964e-06, 1.9817e-06, 5.3768e-06, 9.8043e-01,\n",
       "         2.1420e-06, 2.3109e-06, 1.5305e-02, 4.2238e-03],\n",
       "        [1.1534e-03, 1.9875e-05, 5.2821e-02, 2.6669e-04, 5.3600e-03, 5.1063e-01,\n",
       "         8.2746e-04, 6.2874e-02, 2.3096e-01, 1.3509e-01],\n",
       "        [1.1811e-04, 3.7160e-03, 2.4150e-03, 6.8646e-05, 4.0277e-05, 3.6736e-02,\n",
       "         4.8234e-03, 8.2571e-04, 9.8228e-02, 8.5303e-01],\n",
       "        [1.8682e-04, 4.2320e-05, 1.1558e-06, 4.7465e-05, 4.6805e-04, 7.4344e-01,\n",
       "         1.3206e-02, 1.2733e-01, 9.5555e-03, 1.0573e-01],\n",
       "        [1.8064e-04, 1.0691e-04, 2.0328e-05, 1.0213e-04, 2.9504e-05, 7.8075e-01,\n",
       "         1.8410e-03, 5.6924e-04, 4.8276e-03, 2.1158e-01],\n",
       "        [2.6062e-05, 4.9822e-05, 5.9798e-03, 1.0445e-03, 5.9604e-03, 2.6188e-02,\n",
       "         8.1414e-01, 2.7924e-02, 9.3779e-02, 2.4904e-02],\n",
       "        [2.6441e-04, 1.5789e-05, 3.4922e-02, 4.4513e-03, 1.7242e-01, 3.1738e-02,\n",
       "         6.7802e-01, 3.5450e-02, 2.0120e-02, 2.2597e-02],\n",
       "        [2.1164e-05, 8.7741e-05, 4.8756e-04, 7.9817e-04, 3.8819e-05, 6.5357e-01,\n",
       "         4.7951e-03, 1.7789e-04, 1.3111e-02, 3.2691e-01],\n",
       "        [1.9653e-04, 4.4459e-04, 1.4155e-03, 2.3548e-04, 1.2861e-04, 7.4832e-01,\n",
       "         2.6804e-03, 6.6976e-05, 5.4591e-03, 2.4106e-01],\n",
       "        [2.6521e-04, 5.8659e-04, 1.6320e-02, 8.1081e-04, 2.0922e-04, 6.9672e-02,\n",
       "         4.5127e-01, 1.1675e-03, 9.0092e-02, 3.6961e-01],\n",
       "        [1.6646e-03, 7.8691e-04, 2.8325e-03, 2.2854e-03, 6.0529e-05, 3.8756e-01,\n",
       "         5.5342e-02, 2.8855e-04, 8.8732e-02, 4.6045e-01],\n",
       "        [1.1763e-05, 1.7303e-04, 2.1211e-05, 3.5398e-05, 1.4330e-05, 9.7071e-01,\n",
       "         7.3415e-04, 2.3173e-04, 8.5461e-05, 2.7985e-02],\n",
       "        [2.4683e-04, 1.0117e-04, 6.5309e-03, 1.1205e-03, 1.7120e-04, 5.6470e-01,\n",
       "         9.3847e-02, 1.4430e-03, 2.0123e-02, 3.1171e-01],\n",
       "        [4.9234e-03, 2.1821e-03, 2.2858e-04, 7.3490e-04, 5.1922e-02, 1.7462e-01,\n",
       "         7.1070e-02, 1.1805e-01, 2.1099e-01, 3.6528e-01],\n",
       "        [2.2554e-05, 6.6341e-05, 3.9745e-03, 4.6988e-05, 4.8813e-05, 7.6059e-01,\n",
       "         6.4622e-03, 1.7730e-03, 2.0745e-03, 2.2495e-01],\n",
       "        [9.5147e-05, 5.9680e-07, 1.1222e-04, 1.6110e-05, 2.1882e-06, 9.1238e-01,\n",
       "         4.8625e-04, 7.0616e-06, 1.3175e-03, 8.5587e-02],\n",
       "        [1.6503e-04, 1.3365e-05, 1.4347e-05, 1.8206e-04, 1.8000e-03, 3.8893e-01,\n",
       "         1.7103e-02, 4.1409e-01, 9.8196e-03, 1.6788e-01],\n",
       "        [3.4477e-04, 3.4836e-02, 3.5475e-06, 2.1135e-04, 6.3493e-04, 6.5731e-01,\n",
       "         3.6930e-02, 4.5232e-05, 2.6544e-01, 4.2451e-03],\n",
       "        [5.4733e-04, 5.4913e-05, 4.8484e-04, 1.2987e-03, 1.3738e-04, 7.1821e-01,\n",
       "         3.9010e-02, 3.8917e-03, 6.5891e-02, 1.7047e-01],\n",
       "        [2.3824e-06, 7.2500e-04, 2.8377e-03, 8.6848e-04, 2.6397e-04, 1.5477e-01,\n",
       "         2.6999e-03, 8.6150e-03, 1.0695e-02, 8.1852e-01],\n",
       "        [5.1771e-03, 3.8376e-04, 2.2626e-03, 2.4256e-04, 1.3794e-04, 5.9416e-01,\n",
       "         3.5713e-03, 8.7228e-04, 2.1741e-02, 3.7146e-01],\n",
       "        [4.7818e-04, 1.4982e-03, 1.9839e-03, 7.4240e-04, 2.9117e-06, 8.0766e-02,\n",
       "         4.5498e-01, 1.8602e-02, 5.3533e-03, 4.3559e-01],\n",
       "        [2.9223e-04, 6.8856e-04, 1.7771e-03, 4.1915e-04, 4.0159e-04, 1.6391e-02,\n",
       "         6.9505e-01, 6.6483e-04, 2.4504e-01, 3.9273e-02],\n",
       "        [6.0270e-05, 3.2640e-05, 4.9308e-06, 1.6166e-04, 1.6836e-06, 9.4500e-02,\n",
       "         3.8055e-01, 5.8478e-04, 8.4133e-03, 5.1569e-01],\n",
       "        [1.7781e-05, 2.7723e-05, 7.7089e-05, 1.1606e-04, 2.6213e-05, 5.1980e-02,\n",
       "         1.5187e-02, 4.6309e-05, 1.0070e-03, 9.3152e-01],\n",
       "        [2.7006e-02, 5.4327e-04, 1.2617e-03, 4.6443e-06, 1.3376e-02, 6.7853e-01,\n",
       "         8.9226e-04, 2.4699e-03, 2.2382e-01, 5.2092e-02],\n",
       "        [1.4538e-06, 2.5776e-05, 2.1079e-03, 2.5547e-05, 1.9492e-06, 3.7486e-03,\n",
       "         4.1552e-02, 6.9631e-04, 4.3407e-02, 9.0843e-01],\n",
       "        [4.1460e-05, 2.0205e-03, 1.3471e-02, 5.8493e-03, 3.7901e-04, 1.9874e-01,\n",
       "         4.1339e-01, 1.1531e-02, 3.5785e-02, 3.1879e-01],\n",
       "        [5.0768e-04, 2.5650e-04, 6.8279e-02, 6.5161e-04, 3.0530e-04, 6.6698e-01,\n",
       "         4.6156e-02, 6.8454e-03, 5.9627e-03, 2.0405e-01],\n",
       "        [1.0372e-04, 2.5697e-04, 4.5488e-05, 7.0663e-05, 1.2269e-05, 7.5984e-01,\n",
       "         3.6808e-02, 2.9179e-03, 6.1032e-03, 1.9384e-01],\n",
       "        [2.5142e-05, 7.5568e-05, 1.1100e-04, 8.1779e-04, 1.5589e-05, 2.1499e-01,\n",
       "         5.0715e-01, 2.9252e-03, 6.5893e-03, 2.6730e-01],\n",
       "        [4.8838e-03, 6.2189e-04, 9.3672e-03, 1.4900e-06, 2.7863e-03, 5.6139e-01,\n",
       "         6.6257e-03, 1.4606e-04, 5.6570e-02, 3.5761e-01],\n",
       "        [4.4835e-05, 1.0627e-03, 1.0480e-02, 1.8739e-04, 3.7272e-05, 1.1579e-02,\n",
       "         3.8280e-02, 4.5169e-04, 3.4742e-01, 5.9046e-01],\n",
       "        [2.6813e-05, 6.1047e-05, 1.5609e-03, 1.1495e-04, 3.9330e-05, 8.8606e-01,\n",
       "         4.5890e-04, 1.7550e-05, 2.7979e-03, 1.0886e-01],\n",
       "        [2.6015e-01, 1.0067e-03, 8.0268e-05, 2.5647e-04, 4.5396e-03, 5.6276e-02,\n",
       "         6.8179e-02, 3.5450e-01, 2.2438e-01, 3.0633e-02],\n",
       "        [2.9914e-04, 3.8435e-02, 2.8157e-01, 7.9796e-04, 3.9958e-04, 2.4548e-02,\n",
       "         1.9723e-01, 7.9642e-02, 3.6739e-01, 9.6924e-03],\n",
       "        [5.5286e-05, 7.6595e-06, 8.5633e-03, 1.4199e-02, 8.5958e-05, 3.2199e-01,\n",
       "         1.2237e-01, 5.0708e-02, 1.9735e-01, 2.8467e-01],\n",
       "        [2.3149e-05, 5.2575e-04, 1.3835e-04, 8.7646e-04, 1.1790e-04, 2.3047e-01,\n",
       "         2.3639e-02, 1.0480e-03, 3.3724e-02, 7.0943e-01],\n",
       "        [6.6574e-04, 6.9893e-04, 1.6460e-04, 2.3607e-04, 1.4036e-04, 2.0676e-01,\n",
       "         5.5711e-02, 2.4419e-04, 3.0821e-03, 7.3230e-01],\n",
       "        [1.3681e-06, 5.5716e-05, 4.0345e-06, 9.0085e-05, 6.8204e-07, 9.7741e-03,\n",
       "         7.1822e-03, 9.8804e-05, 1.3352e-03, 9.8146e-01],\n",
       "        [9.3062e-05, 8.2102e-04, 3.2005e-04, 1.0215e-02, 8.2568e-05, 5.7953e-03,\n",
       "         3.3372e-02, 6.3759e-03, 8.1094e-01, 1.3199e-01],\n",
       "        [1.9730e-04, 1.7291e-04, 3.6856e-04, 1.1637e-04, 1.9460e-05, 1.9621e-02,\n",
       "         5.2725e-03, 6.3062e-05, 5.7479e-02, 9.1669e-01],\n",
       "        [2.4207e-04, 2.2079e-04, 4.3464e-06, 1.6821e-05, 7.4696e-02, 8.2743e-01,\n",
       "         3.7929e-02, 3.1579e-05, 5.6778e-02, 2.6497e-03],\n",
       "        [8.2565e-06, 6.4460e-05, 1.7084e-03, 1.2886e-05, 8.7811e-05, 1.5397e-02,\n",
       "         5.8471e-02, 2.4622e-04, 4.3405e-03, 9.1966e-01],\n",
       "        [3.7423e-04, 6.3553e-02, 4.8474e-01, 3.6770e-04, 7.3459e-02, 1.6649e-01,\n",
       "         8.5126e-03, 1.0785e-02, 1.3063e-01, 6.1090e-02],\n",
       "        [1.8874e-04, 1.2275e-06, 3.5155e-03, 5.0869e-05, 9.5453e-04, 9.4086e-01,\n",
       "         4.5241e-03, 6.1972e-04, 3.1149e-04, 4.8978e-02],\n",
       "        [5.6099e-05, 3.0666e-05, 4.1235e-03, 4.9727e-04, 9.2332e-07, 4.4126e-02,\n",
       "         5.2657e-01, 1.6459e-03, 5.7510e-03, 4.1720e-01],\n",
       "        [5.1754e-05, 1.9235e-04, 4.4775e-05, 1.6455e-04, 3.7847e-05, 4.3606e-01,\n",
       "         9.2397e-03, 4.3309e-04, 2.8024e-03, 5.5097e-01],\n",
       "        [7.2448e-04, 1.5853e-02, 6.3008e-02, 4.9227e-05, 1.5657e-03, 1.2251e-02,\n",
       "         3.1429e-02, 1.2228e-03, 7.4245e-02, 7.9965e-01],\n",
       "        [1.1558e-03, 6.5900e-02, 2.1046e-03, 4.7072e-05, 3.1304e-03, 1.0681e-01,\n",
       "         2.3866e-03, 1.1850e-05, 7.6134e-02, 7.4232e-01],\n",
       "        [4.5303e-03, 3.0481e-03, 1.3935e-05, 2.5304e-04, 1.8223e-02, 7.9992e-01,\n",
       "         1.1949e-02, 1.3296e-06, 1.1858e-01, 4.3481e-02],\n",
       "        [2.1381e-03, 3.7011e-02, 6.7856e-05, 1.2316e-06, 5.0812e-05, 5.5301e-01,\n",
       "         5.6016e-02, 9.1989e-04, 6.7075e-03, 3.4408e-01],\n",
       "        [1.8929e-06, 1.4257e-04, 2.3795e-03, 7.9650e-04, 2.2294e-05, 1.6621e-01,\n",
       "         3.2047e-01, 8.8581e-03, 4.6617e-02, 4.5450e-01]])"
      ]
     },
     "execution_count": 10,
     "metadata": {},
     "output_type": "execute_result"
    }
   ],
   "source": [
    "model(x,torch.rand(784,10))"
   ]
  },
  {
   "cell_type": "code",
   "execution_count": 12,
   "metadata": {},
   "outputs": [],
   "source": [
    "def spawn_population(param_size=(784,10),pop_size=1000):\n",
    "    return [Individual(torch.randn(*param_size)) for i in range(pop_size)]"
   ]
  },
  {
   "cell_type": "code",
   "execution_count": 13,
   "metadata": {},
   "outputs": [],
   "source": [
    "loss_fn = torch.nn.CrossEntropyLoss()"
   ]
  },
  {
   "cell_type": "code",
   "execution_count": 14,
   "metadata": {},
   "outputs": [
    {
     "data": {
      "text/plain": [
       "9"
      ]
     },
     "execution_count": 14,
     "metadata": {},
     "output_type": "execute_result"
    }
   ],
   "source": [
    "random.randint(0,10)"
   ]
  },
  {
   "cell_type": "code",
   "execution_count": 15,
   "metadata": {},
   "outputs": [],
   "source": [
    "def evaluate_population(pop):\n",
    "    avg_fit = 0 #avg population fitness\n",
    "    for individual in pop:\n",
    "        x,y = next(iter(train_loader))\n",
    "        pred = model(x.reshape(batch_size,784),individual.param)\n",
    "        loss = loss_fn(pred,y)\n",
    "        fit = loss\n",
    "        individual.fitness = 1.0 / fit\n",
    "        avg_fit += fit\n",
    "    avg_fit = avg_fit / len(pop)\n",
    "    return pop, avg_fit"
   ]
  },
  {
   "cell_type": "code",
   "execution_count": 16,
   "metadata": {},
   "outputs": [],
   "source": [
    "def recombine(x1,x2): #x1,x2 : Individual\n",
    "    w1 = x1.param.view(-1) #flatten\n",
    "    w2 = x2.param.view(-1)\n",
    "    cross_pt = random.randint(0,w1.shape[0])\n",
    "    child1 = torch.zeros(w1.shape)\n",
    "    child2 = torch.zeros(w1.shape)\n",
    "    child1[0:cross_pt] = w1[0:cross_pt]\n",
    "    child1[cross_pt:] = w2[cross_pt:]\n",
    "    child2[0:cross_pt] = w2[0:cross_pt]\n",
    "    child2[cross_pt:] = w1[cross_pt:]\n",
    "    child1 = child1.reshape(784,10)\n",
    "    child2 = child2.reshape(784,10)\n",
    "    c1 = Individual(child1)\n",
    "    c2 = Individual(child2)\n",
    "    return [c1,c2]"
   ]
  },
  {
   "cell_type": "code",
   "execution_count": 17,
   "metadata": {},
   "outputs": [],
   "source": [
    "def mutate(pop, mut_rate=0.01):\n",
    "    param_shape = pop[0].param.shape\n",
    "    l = torch.zeros(*param_shape)\n",
    "    l[:] = mut_rate\n",
    "    m = Bernoulli(l)\n",
    "    for individual in pop:\n",
    "        mut_vector = m.sample() * torch.randn(*param_shape)\n",
    "        individual.param = mut_vector + individual.param\n",
    "    return pop"
   ]
  },
  {
   "cell_type": "code",
   "execution_count": 18,
   "metadata": {},
   "outputs": [],
   "source": [
    "def seed_next_population(pop,pop_size=1000, mut_rate=0.01):\n",
    "    new_pop = []\n",
    "    while len(new_pop) < pop_size: #until new pop is full\n",
    "        parents = random.choices(pop,k=2, weights=[x.fitness for x in pop])\n",
    "        offspring = recombine(parents[0],parents[1])\n",
    "        new_pop.extend(offspring)\n",
    "    new_pop = mutate(new_pop,mut_rate)\n",
    "    return new_pop"
   ]
  },
  {
   "cell_type": "code",
   "execution_count": 19,
   "metadata": {},
   "outputs": [],
   "source": [
    "pop = spawn_population()"
   ]
  },
  {
   "cell_type": "code",
   "execution_count": 20,
   "metadata": {},
   "outputs": [
    {
     "name": "stdout",
     "output_type": "stream",
     "text": [
      "CPU times: user 20.8 s, sys: 1.33 s, total: 22.1 s\n",
      "Wall time: 22.8 s\n"
     ]
    }
   ],
   "source": [
    "%%time\n",
    "pop, avg_fit = evaluate_population(pop)"
   ]
  },
  {
   "cell_type": "code",
   "execution_count": 21,
   "metadata": {},
   "outputs": [],
   "source": [
    "new_pop = seed_next_population(pop)"
   ]
  },
  {
   "cell_type": "code",
   "execution_count": 22,
   "metadata": {},
   "outputs": [
    {
     "data": {
      "text/plain": [
       "1000"
      ]
     },
     "execution_count": 22,
     "metadata": {},
     "output_type": "execute_result"
    }
   ],
   "source": [
    "len(new_pop)"
   ]
  },
  {
   "cell_type": "markdown",
   "metadata": {},
   "source": [
    "Now we need to spawn a population of weight matrices, run the model using the different individuals, calculate the loss for each one, and then breed the ones with the highest fitness score (lowest loss)."
   ]
  },
  {
   "cell_type": "code",
   "execution_count": 23,
   "metadata": {},
   "outputs": [],
   "source": [
    "num_generations = 50\n",
    "population_size = 100\n",
    "mutation_rate = 0.001 # 1% mutation rate per generation"
   ]
  },
  {
   "cell_type": "markdown",
   "metadata": {},
   "source": [
    "### Main Evolution (Training) Loop"
   ]
  },
  {
   "cell_type": "code",
   "execution_count": 24,
   "metadata": {},
   "outputs": [],
   "source": [
    "pop_fit = []\n",
    "pop = spawn_population(pop_size=population_size) #initial population\n",
    "for gen in range(num_generations):\n",
    "    # trainning\n",
    "    pop, avg_fit = evaluate_population(pop)\n",
    "    pop_fit.append(avg_fit) #record population average fitness\n",
    "    new_pop = seed_next_population(pop, pop_size=population_size, mut_rate=mutation_rate)\n",
    "    pop = new_pop"
   ]
  },
  {
   "cell_type": "code",
   "execution_count": 25,
   "metadata": {},
   "outputs": [
    {
     "data": {
      "text/plain": [
       "[<matplotlib.lines.Line2D at 0x7403e8af4d70>]"
      ]
     },
     "execution_count": 25,
     "metadata": {},
     "output_type": "execute_result"
    },
    {
     "data": {
      "image/png": "[encoded data removed]",
      "text/plain": [
       "<Figure size 640x480 with 1 Axes>"
      ]
     },
     "metadata": {},
     "output_type": "display_data"
    }
   ],
   "source": [
    "plt.plot(pop_fit)"
   ]
  },
  {
   "cell_type": "code",
   "execution_count": 26,
   "metadata": {},
   "outputs": [
    {
     "name": "stdout",
     "output_type": "stream",
     "text": [
      "tensor(2.3471)\n"
     ]
    }
   ],
   "source": [
    "avg_loss = 0\n",
    "for i in range(len(pop)):\n",
    "    x,y = next(iter(train_loader))\n",
    "    pred = model(x.reshape(batch_size,784),pop[i].param)\n",
    "    loss = loss_fn(pred,y)\n",
    "    avg_loss += loss\n",
    "avg_loss /= len(pop)\n",
    "print(avg_loss)"
   ]
  },
  {
   "cell_type": "markdown",
   "metadata": {},
   "source": [
    "Avg Loss new pop: 2.3336\n",
    "Avg Loss after 10 gens: 2.3435"
   ]
  },
  {
   "cell_type": "markdown",
   "metadata": {},
   "source": [
    "## Train with gradient-descent (comparison)"
   ]
  },
  {
   "cell_type": "code",
   "execution_count": 27,
   "metadata": {},
   "outputs": [],
   "source": [
    "p = torch.randn(784,10, requires_grad=True)\n",
    "optim = torch.optim.Adam(lr=0.1, params=[p])"
   ]
  },
  {
   "cell_type": "code",
   "execution_count": 28,
   "metadata": {},
   "outputs": [
    {
     "name": "stdout",
     "output_type": "stream",
     "text": [
      "tensor(2.1900, grad_fn=<NllLossBackward0>)\n",
      "tensor(2.1909, grad_fn=<NllLossBackward0>)\n",
      "tensor(2.2012, grad_fn=<NllLossBackward0>)\n",
      "tensor(2.1711, grad_fn=<NllLossBackward0>)\n",
      "tensor(2.2712, grad_fn=<NllLossBackward0>)\n",
      "tensor(2.1076, grad_fn=<NllLossBackward0>)\n",
      "tensor(2.1011, grad_fn=<NllLossBackward0>)\n",
      "tensor(2.1410, grad_fn=<NllLossBackward0>)\n",
      "tensor(2.2212, grad_fn=<NllLossBackward0>)\n",
      "tensor(2.2408, grad_fn=<NllLossBackward0>)\n",
      "tensor(2.2612, grad_fn=<NllLossBackward0>)\n",
      "tensor(2.2112, grad_fn=<NllLossBackward0>)\n",
      "tensor(2.2012, grad_fn=<NllLossBackward0>)\n",
      "tensor(2.2512, grad_fn=<NllLossBackward0>)\n",
      "tensor(2.1111, grad_fn=<NllLossBackward0>)\n",
      "tensor(2.1612, grad_fn=<NllLossBackward0>)\n",
      "tensor(2.2011, grad_fn=<NllLossBackward0>)\n",
      "tensor(2.1012, grad_fn=<NllLossBackward0>)\n",
      "tensor(2.1912, grad_fn=<NllLossBackward0>)\n",
      "tensor(2.0605, grad_fn=<NllLossBackward0>)\n",
      "tensor(2.1808, grad_fn=<NllLossBackward0>)\n",
      "tensor(2.2610, grad_fn=<NllLossBackward0>)\n",
      "tensor(2.2111, grad_fn=<NllLossBackward0>)\n",
      "tensor(2.1612, grad_fn=<NllLossBackward0>)\n",
      "tensor(2.2012, grad_fn=<NllLossBackward0>)\n",
      "tensor(2.2211, grad_fn=<NllLossBackward0>)\n",
      "tensor(2.1808, grad_fn=<NllLossBackward0>)\n",
      "tensor(2.2112, grad_fn=<NllLossBackward0>)\n",
      "tensor(2.0911, grad_fn=<NllLossBackward0>)\n",
      "tensor(2.1908, grad_fn=<NllLossBackward0>)\n",
      "tensor(2.1412, grad_fn=<NllLossBackward0>)\n",
      "tensor(2.2012, grad_fn=<NllLossBackward0>)\n",
      "tensor(2.2310, grad_fn=<NllLossBackward0>)\n",
      "tensor(2.2511, grad_fn=<NllLossBackward0>)\n",
      "tensor(2.2408, grad_fn=<NllLossBackward0>)\n",
      "tensor(2.1411, grad_fn=<NllLossBackward0>)\n",
      "tensor(2.1612, grad_fn=<NllLossBackward0>)\n",
      "tensor(2.1512, grad_fn=<NllLossBackward0>)\n",
      "tensor(2.1611, grad_fn=<NllLossBackward0>)\n",
      "tensor(2.2012, grad_fn=<NllLossBackward0>)\n",
      "tensor(2.1908, grad_fn=<NllLossBackward0>)\n",
      "tensor(2.2611, grad_fn=<NllLossBackward0>)\n",
      "tensor(2.0912, grad_fn=<NllLossBackward0>)\n",
      "tensor(2.2410, grad_fn=<NllLossBackward0>)\n",
      "tensor(2.1211, grad_fn=<NllLossBackward0>)\n",
      "tensor(2.2411, grad_fn=<NllLossBackward0>)\n",
      "tensor(2.1511, grad_fn=<NllLossBackward0>)\n",
      "tensor(2.0811, grad_fn=<NllLossBackward0>)\n",
      "tensor(2.1412, grad_fn=<NllLossBackward0>)\n",
      "tensor(2.2112, grad_fn=<NllLossBackward0>)\n"
     ]
    },
    {
     "ename": "RuntimeError",
     "evalue": "Can't call numpy() on Tensor that requires grad. Use tensor.detach().numpy() instead.",
     "output_type": "error",
     "traceback": [
      "\u001b[0;31m---------------------------------------------------------------------------\u001b[0m",
      "\u001b[0;31mRuntimeError\u001b[0m                              Traceback (most recent call last)",
      "Cell \u001b[0;32mIn[28], line 11\u001b[0m\n\u001b[1;32m      9\u001b[0m         optim\u001b[38;5;241m.\u001b[39mstep()\n\u001b[1;32m     10\u001b[0m     \u001b[38;5;28mprint\u001b[39m(loss)\n\u001b[0;32m---> 11\u001b[0m \u001b[43mplt\u001b[49m\u001b[38;5;241;43m.\u001b[39;49m\u001b[43mplot\u001b[49m\u001b[43m(\u001b[49m\u001b[43mloss_list\u001b[49m\u001b[43m)\u001b[49m\n",
      "File \u001b[0;32m~/.local/lib/python3.12/site-packages/matplotlib/pyplot.py:3794\u001b[0m, in \u001b[0;36mplot\u001b[0;34m(scalex, scaley, data, *args, **kwargs)\u001b[0m\n\u001b[1;32m   3786\u001b[0m \u001b[38;5;129m@_copy_docstring_and_deprecators\u001b[39m(Axes\u001b[38;5;241m.\u001b[39mplot)\n\u001b[1;32m   3787\u001b[0m \u001b[38;5;28;01mdef\u001b[39;00m \u001b[38;5;21mplot\u001b[39m(\n\u001b[1;32m   3788\u001b[0m     \u001b[38;5;241m*\u001b[39margs: \u001b[38;5;28mfloat\u001b[39m \u001b[38;5;241m|\u001b[39m ArrayLike \u001b[38;5;241m|\u001b[39m \u001b[38;5;28mstr\u001b[39m,\n\u001b[0;32m   (...)\u001b[0m\n\u001b[1;32m   3792\u001b[0m     \u001b[38;5;241m*\u001b[39m\u001b[38;5;241m*\u001b[39mkwargs,\n\u001b[1;32m   3793\u001b[0m ) \u001b[38;5;241m-\u001b[39m\u001b[38;5;241m>\u001b[39m \u001b[38;5;28mlist\u001b[39m[Line2D]:\n\u001b[0;32m-> 3794\u001b[0m     \u001b[38;5;28;01mreturn\u001b[39;00m \u001b[43mgca\u001b[49m\u001b[43m(\u001b[49m\u001b[43m)\u001b[49m\u001b[38;5;241;43m.\u001b[39;49m\u001b[43mplot\u001b[49m\u001b[43m(\u001b[49m\n\u001b[1;32m   3795\u001b[0m \u001b[43m        \u001b[49m\u001b[38;5;241;43m*\u001b[39;49m\u001b[43margs\u001b[49m\u001b[43m,\u001b[49m\n\u001b[1;32m   3796\u001b[0m \u001b[43m        \u001b[49m\u001b[43mscalex\u001b[49m\u001b[38;5;241;43m=\u001b[39;49m\u001b[43mscalex\u001b[49m\u001b[43m,\u001b[49m\n\u001b[1;32m   3797\u001b[0m \u001b[43m        \u001b[49m\u001b[43mscaley\u001b[49m\u001b[38;5;241;43m=\u001b[39;49m\u001b[43mscaley\u001b[49m\u001b[43m,\u001b[49m\n\u001b[1;32m   3798\u001b[0m \u001b[43m        \u001b[49m\u001b[38;5;241;43m*\u001b[39;49m\u001b[38;5;241;43m*\u001b[39;49m\u001b[43m(\u001b[49m\u001b[43m{\u001b[49m\u001b[38;5;124;43m\"\u001b[39;49m\u001b[38;5;124;43mdata\u001b[39;49m\u001b[38;5;124;43m\"\u001b[39;49m\u001b[43m:\u001b[49m\u001b[43m \u001b[49m\u001b[43mdata\u001b[49m\u001b[43m}\u001b[49m\u001b[43m \u001b[49m\u001b[38;5;28;43;01mif\u001b[39;49;00m\u001b[43m \u001b[49m\u001b[43mdata\u001b[49m\u001b[43m \u001b[49m\u001b[38;5;129;43;01mis\u001b[39;49;00m\u001b[43m \u001b[49m\u001b[38;5;129;43;01mnot\u001b[39;49;00m\u001b[43m \u001b[49m\u001b[38;5;28;43;01mNone\u001b[39;49;00m\u001b[43m \u001b[49m\u001b[38;5;28;43;01melse\u001b[39;49;00m\u001b[43m \u001b[49m\u001b[43m{\u001b[49m\u001b[43m}\u001b[49m\u001b[43m)\u001b[49m\u001b[43m,\u001b[49m\n\u001b[1;32m   3799\u001b[0m \u001b[43m        \u001b[49m\u001b[38;5;241;43m*\u001b[39;49m\u001b[38;5;241;43m*\u001b[39;49m\u001b[43mkwargs\u001b[49m\u001b[43m,\u001b[49m\n\u001b[1;32m   3800\u001b[0m \u001b[43m    \u001b[49m\u001b[43m)\u001b[49m\n",
      "File \u001b[0;32m~/.local/lib/python3.12/site-packages/matplotlib/axes/_axes.py:1779\u001b[0m, in \u001b[0;36mAxes.plot\u001b[0;34m(self, scalex, scaley, data, *args, **kwargs)\u001b[0m\n\u001b[1;32m   1536\u001b[0m \u001b[38;5;250m\u001b[39m\u001b[38;5;124;03m\"\"\"\u001b[39;00m\n\u001b[1;32m   1537\u001b[0m \u001b[38;5;124;03mPlot y versus x as lines and/or markers.\u001b[39;00m\n\u001b[1;32m   1538\u001b[0m \n\u001b[0;32m   (...)\u001b[0m\n\u001b[1;32m   1776\u001b[0m \u001b[38;5;124;03m(``'green'``) or hex strings (``'#008000'``).\u001b[39;00m\n\u001b[1;32m   1777\u001b[0m \u001b[38;5;124;03m\"\"\"\u001b[39;00m\n\u001b[1;32m   1778\u001b[0m kwargs \u001b[38;5;241m=\u001b[39m cbook\u001b[38;5;241m.\u001b[39mnormalize_kwargs(kwargs, mlines\u001b[38;5;241m.\u001b[39mLine2D)\n\u001b[0;32m-> 1779\u001b[0m lines \u001b[38;5;241m=\u001b[39m [\u001b[38;5;241m*\u001b[39m\u001b[38;5;28mself\u001b[39m\u001b[38;5;241m.\u001b[39m_get_lines(\u001b[38;5;28mself\u001b[39m, \u001b[38;5;241m*\u001b[39margs, data\u001b[38;5;241m=\u001b[39mdata, \u001b[38;5;241m*\u001b[39m\u001b[38;5;241m*\u001b[39mkwargs)]\n\u001b[1;32m   1780\u001b[0m \u001b[38;5;28;01mfor\u001b[39;00m line \u001b[38;5;129;01min\u001b[39;00m lines:\n\u001b[1;32m   1781\u001b[0m     \u001b[38;5;28mself\u001b[39m\u001b[38;5;241m.\u001b[39madd_line(line)\n",
      "File \u001b[0;32m~/.local/lib/python3.12/site-packages/matplotlib/axes/_base.py:296\u001b[0m, in \u001b[0;36m_process_plot_var_args.__call__\u001b[0;34m(self, axes, data, *args, **kwargs)\u001b[0m\n\u001b[1;32m    294\u001b[0m     this \u001b[38;5;241m+\u001b[39m\u001b[38;5;241m=\u001b[39m args[\u001b[38;5;241m0\u001b[39m],\n\u001b[1;32m    295\u001b[0m     args \u001b[38;5;241m=\u001b[39m args[\u001b[38;5;241m1\u001b[39m:]\n\u001b[0;32m--> 296\u001b[0m \u001b[38;5;28;01myield from\u001b[39;00m \u001b[38;5;28;43mself\u001b[39;49m\u001b[38;5;241;43m.\u001b[39;49m\u001b[43m_plot_args\u001b[49m\u001b[43m(\u001b[49m\n\u001b[1;32m    297\u001b[0m \u001b[43m    \u001b[49m\u001b[43maxes\u001b[49m\u001b[43m,\u001b[49m\u001b[43m \u001b[49m\u001b[43mthis\u001b[49m\u001b[43m,\u001b[49m\u001b[43m \u001b[49m\u001b[43mkwargs\u001b[49m\u001b[43m,\u001b[49m\u001b[43m \u001b[49m\u001b[43mambiguous_fmt_datakey\u001b[49m\u001b[38;5;241;43m=\u001b[39;49m\u001b[43mambiguous_fmt_datakey\u001b[49m\u001b[43m)\u001b[49m\n",
      "File \u001b[0;32m~/.local/lib/python3.12/site-packages/matplotlib/axes/_base.py:478\u001b[0m, in \u001b[0;36m_process_plot_var_args._plot_args\u001b[0;34m(self, axes, tup, kwargs, return_kwargs, ambiguous_fmt_datakey)\u001b[0m\n\u001b[1;32m    476\u001b[0m     y \u001b[38;5;241m=\u001b[39m _check_1d(xy[\u001b[38;5;241m1\u001b[39m])\n\u001b[1;32m    477\u001b[0m \u001b[38;5;28;01melse\u001b[39;00m:\n\u001b[0;32m--> 478\u001b[0m     x, y \u001b[38;5;241m=\u001b[39m \u001b[43mindex_of\u001b[49m\u001b[43m(\u001b[49m\u001b[43mxy\u001b[49m\u001b[43m[\u001b[49m\u001b[38;5;241;43m-\u001b[39;49m\u001b[38;5;241;43m1\u001b[39;49m\u001b[43m]\u001b[49m\u001b[43m)\u001b[49m\n\u001b[1;32m    480\u001b[0m \u001b[38;5;28;01mif\u001b[39;00m axes\u001b[38;5;241m.\u001b[39mxaxis \u001b[38;5;129;01mis\u001b[39;00m \u001b[38;5;129;01mnot\u001b[39;00m \u001b[38;5;28;01mNone\u001b[39;00m:\n\u001b[1;32m    481\u001b[0m     axes\u001b[38;5;241m.\u001b[39mxaxis\u001b[38;5;241m.\u001b[39mupdate_units(x)\n",
      "File \u001b[0;32m~/.local/lib/python3.12/site-packages/matplotlib/cbook.py:1719\u001b[0m, in \u001b[0;36mindex_of\u001b[0;34m(y)\u001b[0m\n\u001b[1;32m   1717\u001b[0m     \u001b[38;5;28;01mpass\u001b[39;00m\n\u001b[1;32m   1718\u001b[0m \u001b[38;5;28;01mtry\u001b[39;00m:\n\u001b[0;32m-> 1719\u001b[0m     y \u001b[38;5;241m=\u001b[39m \u001b[43m_check_1d\u001b[49m\u001b[43m(\u001b[49m\u001b[43my\u001b[49m\u001b[43m)\u001b[49m\n\u001b[1;32m   1720\u001b[0m \u001b[38;5;28;01mexcept\u001b[39;00m (VisibleDeprecationWarning, \u001b[38;5;167;01mValueError\u001b[39;00m):\n\u001b[1;32m   1721\u001b[0m     \u001b[38;5;66;03m# NumPy 1.19 will warn on ragged input, and we can't actually use it.\u001b[39;00m\n\u001b[1;32m   1722\u001b[0m     \u001b[38;5;28;01mpass\u001b[39;00m\n",
      "File \u001b[0;32m~/.local/lib/python3.12/site-packages/matplotlib/cbook.py:1411\u001b[0m, in \u001b[0;36m_check_1d\u001b[0;34m(x)\u001b[0m\n\u001b[1;32m   1405\u001b[0m \u001b[38;5;66;03m# plot requires `shape` and `ndim`.  If passed an\u001b[39;00m\n\u001b[1;32m   1406\u001b[0m \u001b[38;5;66;03m# object that doesn't provide them, then force to numpy array.\u001b[39;00m\n\u001b[1;32m   1407\u001b[0m \u001b[38;5;66;03m# Note this will strip unit information.\u001b[39;00m\n\u001b[1;32m   1408\u001b[0m \u001b[38;5;28;01mif\u001b[39;00m (\u001b[38;5;129;01mnot\u001b[39;00m \u001b[38;5;28mhasattr\u001b[39m(x, \u001b[38;5;124m'\u001b[39m\u001b[38;5;124mshape\u001b[39m\u001b[38;5;124m'\u001b[39m) \u001b[38;5;129;01mor\u001b[39;00m\n\u001b[1;32m   1409\u001b[0m         \u001b[38;5;129;01mnot\u001b[39;00m \u001b[38;5;28mhasattr\u001b[39m(x, \u001b[38;5;124m'\u001b[39m\u001b[38;5;124mndim\u001b[39m\u001b[38;5;124m'\u001b[39m) \u001b[38;5;129;01mor\u001b[39;00m\n\u001b[1;32m   1410\u001b[0m         \u001b[38;5;28mlen\u001b[39m(x\u001b[38;5;241m.\u001b[39mshape) \u001b[38;5;241m<\u001b[39m \u001b[38;5;241m1\u001b[39m):\n\u001b[0;32m-> 1411\u001b[0m     \u001b[38;5;28;01mreturn\u001b[39;00m \u001b[43mnp\u001b[49m\u001b[38;5;241;43m.\u001b[39;49m\u001b[43matleast_1d\u001b[49m\u001b[43m(\u001b[49m\u001b[43mx\u001b[49m\u001b[43m)\u001b[49m\n\u001b[1;32m   1412\u001b[0m \u001b[38;5;28;01melse\u001b[39;00m:\n\u001b[1;32m   1413\u001b[0m     \u001b[38;5;28;01mreturn\u001b[39;00m x\n",
      "File \u001b[0;32m/usr/local/python/3.12.1/lib/python3.12/site-packages/numpy/core/shape_base.py:65\u001b[0m, in \u001b[0;36matleast_1d\u001b[0;34m(*arys)\u001b[0m\n\u001b[1;32m     63\u001b[0m res \u001b[38;5;241m=\u001b[39m []\n\u001b[1;32m     64\u001b[0m \u001b[38;5;28;01mfor\u001b[39;00m ary \u001b[38;5;129;01min\u001b[39;00m arys:\n\u001b[0;32m---> 65\u001b[0m     ary \u001b[38;5;241m=\u001b[39m \u001b[43masanyarray\u001b[49m\u001b[43m(\u001b[49m\u001b[43mary\u001b[49m\u001b[43m)\u001b[49m\n\u001b[1;32m     66\u001b[0m     \u001b[38;5;28;01mif\u001b[39;00m ary\u001b[38;5;241m.\u001b[39mndim \u001b[38;5;241m==\u001b[39m \u001b[38;5;241m0\u001b[39m:\n\u001b[1;32m     67\u001b[0m         result \u001b[38;5;241m=\u001b[39m ary\u001b[38;5;241m.\u001b[39mreshape(\u001b[38;5;241m1\u001b[39m)\n",
      "File \u001b[0;32m/usr/local/python/3.12.1/lib/python3.12/site-packages/torch/_tensor.py:1062\u001b[0m, in \u001b[0;36mTensor.__array__\u001b[0;34m(self, dtype)\u001b[0m\n\u001b[1;32m   1060\u001b[0m     \u001b[38;5;28;01mreturn\u001b[39;00m handle_torch_function(Tensor\u001b[38;5;241m.\u001b[39m__array__, (\u001b[38;5;28mself\u001b[39m,), \u001b[38;5;28mself\u001b[39m, dtype\u001b[38;5;241m=\u001b[39mdtype)\n\u001b[1;32m   1061\u001b[0m \u001b[38;5;28;01mif\u001b[39;00m dtype \u001b[38;5;129;01mis\u001b[39;00m \u001b[38;5;28;01mNone\u001b[39;00m:\n\u001b[0;32m-> 1062\u001b[0m     \u001b[38;5;28;01mreturn\u001b[39;00m \u001b[38;5;28;43mself\u001b[39;49m\u001b[38;5;241;43m.\u001b[39;49m\u001b[43mnumpy\u001b[49m\u001b[43m(\u001b[49m\u001b[43m)\u001b[49m\n\u001b[1;32m   1063\u001b[0m \u001b[38;5;28;01melse\u001b[39;00m:\n\u001b[1;32m   1064\u001b[0m     \u001b[38;5;28;01mreturn\u001b[39;00m \u001b[38;5;28mself\u001b[39m\u001b[38;5;241m.\u001b[39mnumpy()\u001b[38;5;241m.\u001b[39mastype(dtype, copy\u001b[38;5;241m=\u001b[39m\u001b[38;5;28;01mFalse\u001b[39;00m)\n",
      "\u001b[0;31mRuntimeError\u001b[0m: Can't call numpy() on Tensor that requires grad. Use tensor.detach().numpy() instead."
     ]
    },
    {
     "data": {
      "image/png": "[encoded data removed]",
      "text/plain": [
       "<Figure size 640x480 with 1 Axes>"
      ]
     },
     "metadata": {},
     "output_type": "display_data"
    }
   ],
   "source": [
    "loss_list = []\n",
    "for i in range(50):\n",
    "    for x,y in train_loader:\n",
    "        optim.zero_grad()\n",
    "        pred = model(x.reshape(batch_size,784),p)\n",
    "        loss = loss_fn(pred,y)\n",
    "        loss_list.append(loss)\n",
    "        loss.backward()\n",
    "        optim.step()\n",
    "    print(loss)"
   ]
  },
  {
   "cell_type": "code",
   "execution_count": 32,
   "metadata": {},
   "outputs": [
    {
     "data": {
      "text/plain": [
       "[<matplotlib.lines.Line2D at 0x7403e902bb30>]"
      ]
     },
     "execution_count": 32,
     "metadata": {},
     "output_type": "execute_result"
    },
    {
     "data": {
      "image/png": "[encoded data removed]",
      "text/plain": [
       "<Figure size 640x480 with 1 Axes>"
      ]
     },
     "metadata": {},
     "output_type": "display_data"
    }
   ],
   "source": [
    "plt.plot([loss_list[i].detach().numpy() for i in range(len(loss_list))])"
   ]
  },
  {
   "cell_type": "code",
   "execution_count": null,
   "metadata": {},
   "outputs": [],
   "source": []
  }
 ],
 "metadata": {
  "kernelspec": {
   "display_name": "Python 3 (ipykernel)",
   "language": "python",
   "name": "python3"
  },
  "language_info": {
   "codemirror_mode": {
    "name": "ipython",
    "version": 3
   },
   "file_extension": ".py",
   "mimetype": "text/x-python",
   "name": "python",
   "nbconvert_exporter": "python",
   "pygments_lexer": "ipython3",
   "version": "3.12.1"
  }
 },
 "nbformat": 4,
 "nbformat_minor": 4
}
